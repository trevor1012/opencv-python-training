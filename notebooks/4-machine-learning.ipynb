{
 "cells": [
  {
   "cell_type": "code",
   "execution_count": 30,
   "metadata": {},
   "outputs": [
    {
     "data": {
      "text/plain": [
       "(2500, 400)"
      ]
     },
     "execution_count": 30,
     "metadata": {},
     "output_type": "execute_result"
    }
   ],
   "source": [
    "import cv2\n",
    "import numpy as np\n",
    "from sklearn.decomposition import PCA\n",
    "mnist_knn = cv2.imread('../assets/digits.png',0)\n",
    "images = [np.hsplit(row,100) for row in np.vsplit(mnist_knn,50) ]\n",
    "images = np.array(images, dtype=np.float32)\n",
    "\n",
    "pca = PCA(n_components=images.shape[1])\n",
    "\n",
    "#split images to get half of the image as train then the rest for test\n",
    "train_features = images[:, :50].reshape(-1,(20*20)) \n",
    "test_features = images[:,50:100].reshape(-1,(20*20))\n",
    "\n",
    "#plt.plot(np.cumsum(pca.explained_variance_ratio))\n",
    "#plt.xlabel('Number of Components')\n",
    "#plt.ylabel('Cumulative explained variance')\n",
    "#plt.show()\n",
    "\n",
    "pca.fit(train_features)\n",
    "\n",
    "train_features=pca.transform(train_features)\n",
    "test_features=pca.transform(test_features)\n",
    "\n",
    "inverse_pca = pca.inverse_transform(train_features)\n",
    "inverse_pca.shape\n",
    "\n",
    "#train_features -= np.mean(train_features, axis=0)\n",
    "#test_features -= np.mean(train_features, axis=0)\n",
    "\n",
    "\n",
    "\n",
    "\n"
   ]
  },
  {
   "cell_type": "code",
   "execution_count": 28,
   "metadata": {},
   "outputs": [
    {
     "name": "stdout",
     "output_type": "stream",
     "text": [
      "Accuracy: 73.77777777777777\n"
     ]
    }
   ],
   "source": [
    "import cv2\n",
    "import numpy as np\n",
    "from sklearn.decomposition import PCA\n",
    "fashion_mnist = cv2.imread('../assets/fashion.png',0)\n",
    "images = [np.hsplit(row,30) for row in np.vsplit(fashion_mnist,30) ]\n",
    "images = np.array(images, dtype=np.float32)\n",
    "\n",
    "pca = PCA(n_components=images.shape[1])\n",
    "\n",
    "test_features = images[:,15:30].reshape(-1,(28*28))\n",
    "\n",
    "#split images to get half of the image as train then the rest for test\n",
    "train_features = images[:, :15].reshape(-1,(28*28)) \n",
    "\n",
    "#train_features -= np.mean(train_features, axis=0)\n",
    "#test_features -= np.mean(train_features, axis=0)\n",
    "\n",
    "pca.fit(train_features)\n",
    "\n",
    "train_features=pca.transform(train_features)\n",
    "test_features=pca.transform(test_features)\n",
    "\n",
    "k = np.arange(10)\n",
    "\n",
    "#create labels\n",
    "train_label = np.repeat(k, 45).reshape(-1,1)\n",
    "test_label = train_label.copy()\n",
    "knn = cv2.ml.KNearest_create()\n",
    "#train\n",
    "knn.train(train_features,cv2.ml.ROW_SAMPLE, train_label)\n",
    "\n",
    "ret, result, neighbors, dist = knn.findNearest(test_features,3)\n",
    "#check if the results are correct\n",
    "matches = np.equal(result, test_label)\n",
    "\n",
    "#convert bool to int\n",
    "matches = matches.astype(np.int)\n",
    "\n",
    "#count the correct predict\n",
    "correct = np.count_nonzero(matches)\n",
    "\n",
    "#compute acc\n",
    "accuracy = (correct * 100.00) / result.size\n",
    "\n",
    "#display\n",
    "print('Accuracy: {}'.format(accuracy))\n"
   ]
  },
  {
   "cell_type": "code",
   "execution_count": 29,
   "metadata": {},
   "outputs": [
    {
     "name": "stdout",
     "output_type": "stream",
     "text": [
      "Accuracy: 89.4\n"
     ]
    }
   ],
   "source": [
    "import cv2\n",
    "import numpy as np\n",
    "from sklearn.decomposition import PCA\n",
    "digit_svm = cv2.imread('../assets/digits.png',0)\n",
    "images = [np.hsplit(row,100) for row in np.vsplit(digit_svm,50) ]\n",
    "images = np.array(images, dtype=np.float32)\n",
    "\n",
    "pca = PCA(n_components= images.shape[1])\n",
    "\n",
    "test_features = images[:,50:100].reshape(-1,(20*20))\n",
    "\n",
    "#split images to get half of the image as train then the rest for test\n",
    "train_features = images[:, :50].reshape(-1,(20*20)) \n",
    "\n",
    "pca.fit(train_features)\n",
    "train_features=pca.transform(train_features)\n",
    "test_features=pca.transform(test_features)\n",
    "\n",
    "#train_features -= np.mean(train_features, axis=0)\n",
    "#test_features -= np.mean(train_features, axis=0)\n",
    "\n",
    "\n",
    "pca.fit(train_features)\n",
    "train_features=pca.transform(train_features)\n",
    "test_features=pca.transform(test_features)\n",
    "\n",
    "k = np.arange(10)\n",
    "\n",
    "#create labels\n",
    "train_label = np.repeat(k, 250).reshape(-1,1)\n",
    "test_label = train_label.copy()\n",
    "\n",
    "#SVM Model\n",
    "model = cv2.ml.SVM_create()\n",
    "model.setKernel(cv2.ml.SVM_LINEAR)\n",
    "model.setC(2.67)\n",
    "model.setGamma(5.383)\n",
    "model.setType(cv2.ml.SVM_C_SVC)\n",
    "\n",
    "#training SVM\n",
    "model.train(train_features,cv2.ml.ROW_SAMPLE, train_label)\n",
    "\n",
    "#using the Train SVM\n",
    "result = model.predict(test_features)\n",
    "\n",
    "matches = np.equal(result[1], test_label)\n",
    "\n",
    "#convert bool to int\n",
    "matches = matches.astype(np.int)\n",
    "\n",
    "#count the correct predict\n",
    "correct = np.count_nonzero(matches)\n",
    "\n",
    "#compute acc\n",
    "accuracy = (correct * 100.00) / result[1].size\n",
    "\n",
    "#display\n",
    "print('Accuracy: {}'.format(accuracy))"
   ]
  },
  {
   "cell_type": "code",
   "execution_count": 35,
   "metadata": {},
   "outputs": [
    {
     "name": "stdout",
     "output_type": "stream",
     "text": [
      "Accuracy: 74.66666666666667\n"
     ]
    }
   ],
   "source": [
    "import cv2\n",
    "import numpy as np\n",
    "from sklearn.decomposition import PCA\n",
    "fashion_svm = cv2.imread('../assets/fashion.png',0)\n",
    "images = [np.hsplit(row,30) for row in np.vsplit(fashion_svm,30) ]\n",
    "images = np.array(images, dtype=np.float32)\n",
    "\n",
    "test_features = images[:,15:30].reshape(-1,(28*28))\n",
    "\n",
    "#split images to get half of the image as train then the rest for test\n",
    "train_features = images[:, :15].reshape(-1,(28*28)) \n",
    "\n",
    "train_features -= np.mean(train_features, axis=0)\n",
    "test_features -= np.mean(train_features, axis=0)\n",
    "\n",
    "k = np.arange(10)\n",
    "\n",
    "#create labels\n",
    "train_label = np.repeat(k, 45).reshape(-1,1)\n",
    "test_label = train_label.copy()\n",
    "\n",
    "#SVM Model\n",
    "model = cv2.ml.SVM_create()\n",
    "model.setKernel(cv2.ml.SVM_LINEAR)\n",
    "model.setC(2.67)\n",
    "model.setGamma(5.383)\n",
    "model.setType(cv2.ml.SVM_C_SVC)\n",
    "\n",
    "#training SVM\n",
    "model.train(train_features,cv2.ml.ROW_SAMPLE, train_label)\n",
    "\n",
    "#using the Train SVM\n",
    "result = model.predict(test_features)\n",
    "\n",
    "matches = np.equal(result[1], test_label)\n",
    "\n",
    "#convert bool to int\n",
    "matches = matches.astype(np.int)\n",
    "\n",
    "#count the correct predict\n",
    "correct = np.count_nonzero(matches)\n",
    "\n",
    "#compute acc\n",
    "accuracy = (correct * 100.00) / result[1].size\n",
    "\n",
    "#display\n",
    "print('Accuracy: {}'.format(accuracy))"
   ]
  }
 ],
 "metadata": {
  "kernelspec": {
   "display_name": "Python 3",
   "language": "python",
   "name": "python3"
  },
  "language_info": {
   "codemirror_mode": {
    "name": "ipython",
    "version": 3
   },
   "file_extension": ".py",
   "mimetype": "text/x-python",
   "name": "python",
   "nbconvert_exporter": "python",
   "pygments_lexer": "ipython3",
   "version": "3.6.5"
  }
 },
 "nbformat": 4,
 "nbformat_minor": 2
}
